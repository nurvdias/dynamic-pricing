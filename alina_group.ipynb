{
  "nbformat": 4,
  "nbformat_minor": 0,
  "metadata": {
    "colab": {
      "name": "alina_group.ipynb",
      "version": "0.3.2",
      "provenance": []
    },
    "kernelspec": {
      "name": "python3",
      "display_name": "Python 3"
    }
  },
  "cells": [
    {
      "metadata": {
        "id": "ToM9XnF6JX-C",
        "colab_type": "code",
        "colab": {}
      },
      "cell_type": "code",
      "source": [
        "import pandas\n",
        "import numpy as np\n",
        "import seaborn as sns\n",
        "data1 = pandas.read_excel('ds.xlsx', sheet_name='Margin')\n",
        "data2 = pandas.read_excel('ds.xlsx', sheet_name='Gross')\n",
        "data3 = pandas.read_excel('ds.xlsx', sheet_name='Heatmap')\n",
        "\n",
        "data2[\"Bread\"] = data2[\"Bread\"].astype(float)"
      ],
      "execution_count": 0,
      "outputs": []
    },
    {
      "metadata": {
        "id": "uthkfrGVXfCm",
        "colab_type": "code",
        "outputId": "cfd73159-d349-43c1-98fa-dc9fc86229b3",
        "colab": {
          "base_uri": "https://localhost:8080/",
          "height": 195
        }
      },
      "cell_type": "code",
      "source": [
        "data1"
      ],
      "execution_count": 0,
      "outputs": [
        {
          "output_type": "execute_result",
          "data": {
            "text/html": [
              "<div>\n",
              "<style scoped>\n",
              "    .dataframe tbody tr th:only-of-type {\n",
              "        vertical-align: middle;\n",
              "    }\n",
              "\n",
              "    .dataframe tbody tr th {\n",
              "        vertical-align: top;\n",
              "    }\n",
              "\n",
              "    .dataframe thead th {\n",
              "        text-align: right;\n",
              "    }\n",
              "</style>\n",
              "<table border=\"1\" class=\"dataframe\">\n",
              "  <thead>\n",
              "    <tr style=\"text-align: right;\">\n",
              "      <th></th>\n",
              "      <th>Margin</th>\n",
              "      <th>Bread</th>\n",
              "      <th>Beer</th>\n",
              "      <th>Milk</th>\n",
              "      <th>Sausage</th>\n",
              "    </tr>\n",
              "  </thead>\n",
              "  <tbody>\n",
              "    <tr>\n",
              "      <th>0</th>\n",
              "      <td>0.05</td>\n",
              "      <td>30</td>\n",
              "      <td>32</td>\n",
              "      <td>40</td>\n",
              "      <td>25</td>\n",
              "    </tr>\n",
              "    <tr>\n",
              "      <th>1</th>\n",
              "      <td>0.10</td>\n",
              "      <td>24</td>\n",
              "      <td>20</td>\n",
              "      <td>40</td>\n",
              "      <td>20</td>\n",
              "    </tr>\n",
              "    <tr>\n",
              "      <th>2</th>\n",
              "      <td>0.15</td>\n",
              "      <td>21</td>\n",
              "      <td>19</td>\n",
              "      <td>36</td>\n",
              "      <td>18</td>\n",
              "    </tr>\n",
              "    <tr>\n",
              "      <th>3</th>\n",
              "      <td>0.20</td>\n",
              "      <td>20</td>\n",
              "      <td>15</td>\n",
              "      <td>30</td>\n",
              "      <td>17</td>\n",
              "    </tr>\n",
              "    <tr>\n",
              "      <th>4</th>\n",
              "      <td>0.30</td>\n",
              "      <td>10</td>\n",
              "      <td>15</td>\n",
              "      <td>28</td>\n",
              "      <td>10</td>\n",
              "    </tr>\n",
              "  </tbody>\n",
              "</table>\n",
              "</div>"
            ],
            "text/plain": [
              "   Margin  Bread  Beer  Milk  Sausage\n",
              "0    0.05     30    32    40       25\n",
              "1    0.10     24    20    40       20\n",
              "2    0.15     21    19    36       18\n",
              "3    0.20     20    15    30       17\n",
              "4    0.30     10    15    28       10"
            ]
          },
          "metadata": {
            "tags": []
          },
          "execution_count": 2
        }
      ]
    },
    {
      "metadata": {
        "id": "gXa7BbsfX2V5",
        "colab_type": "code",
        "outputId": "6a9de89d-aabf-40b1-a80d-78ddc4fcd91d",
        "colab": {
          "base_uri": "https://localhost:8080/",
          "height": 166
        }
      },
      "cell_type": "code",
      "source": [
        "data2"
      ],
      "execution_count": 0,
      "outputs": [
        {
          "output_type": "execute_result",
          "data": {
            "text/html": [
              "<div>\n",
              "<style scoped>\n",
              "    .dataframe tbody tr th:only-of-type {\n",
              "        vertical-align: middle;\n",
              "    }\n",
              "\n",
              "    .dataframe tbody tr th {\n",
              "        vertical-align: top;\n",
              "    }\n",
              "\n",
              "    .dataframe thead th {\n",
              "        text-align: right;\n",
              "    }\n",
              "</style>\n",
              "<table border=\"1\" class=\"dataframe\">\n",
              "  <thead>\n",
              "    <tr style=\"text-align: right;\">\n",
              "      <th></th>\n",
              "      <th>Name</th>\n",
              "      <th>Bread</th>\n",
              "      <th>Beer</th>\n",
              "      <th>Milk</th>\n",
              "      <th>Sausage</th>\n",
              "    </tr>\n",
              "  </thead>\n",
              "  <tbody>\n",
              "    <tr>\n",
              "      <th>0</th>\n",
              "      <td>Cost of one</td>\n",
              "      <td>75.0</td>\n",
              "      <td>200.0</td>\n",
              "      <td>220.0</td>\n",
              "      <td>140.0</td>\n",
              "    </tr>\n",
              "    <tr>\n",
              "      <th>1</th>\n",
              "      <td>Best margin</td>\n",
              "      <td>0.0</td>\n",
              "      <td>0.0</td>\n",
              "      <td>0.0</td>\n",
              "      <td>0.0</td>\n",
              "    </tr>\n",
              "    <tr>\n",
              "      <th>2</th>\n",
              "      <td>Gross profit</td>\n",
              "      <td>0.0</td>\n",
              "      <td>0.0</td>\n",
              "      <td>0.0</td>\n",
              "      <td>0.0</td>\n",
              "    </tr>\n",
              "    <tr>\n",
              "      <th>3</th>\n",
              "      <td>Total</td>\n",
              "      <td>0.0</td>\n",
              "      <td>NaN</td>\n",
              "      <td>NaN</td>\n",
              "      <td>NaN</td>\n",
              "    </tr>\n",
              "  </tbody>\n",
              "</table>\n",
              "</div>"
            ],
            "text/plain": [
              "           Name  Bread   Beer   Milk  Sausage\n",
              "0   Cost of one   75.0  200.0  220.0    140.0\n",
              "1   Best margin    0.0    0.0    0.0      0.0\n",
              "2  Gross profit    0.0    0.0    0.0      0.0\n",
              "3         Total    0.0    NaN    NaN      NaN"
            ]
          },
          "metadata": {
            "tags": []
          },
          "execution_count": 3
        }
      ]
    },
    {
      "metadata": {
        "id": "-1IZ6WAIYu4F",
        "colab_type": "code",
        "colab": {}
      },
      "cell_type": "code",
      "source": [
        "list = data1['Margin']\n",
        "items = data1.columns[1:]"
      ],
      "execution_count": 0,
      "outputs": []
    },
    {
      "metadata": {
        "id": "Kj6v9BkkD3os",
        "colab_type": "code",
        "colab": {}
      },
      "cell_type": "code",
      "source": [
        "#list of GrossPrice\n",
        "grossMargin = []\n",
        "\n",
        "#list of best margine\n",
        "bestMargin = []"
      ],
      "execution_count": 0,
      "outputs": []
    },
    {
      "metadata": {
        "id": "I2nuXW9DcM3n",
        "colab_type": "code",
        "outputId": "00a7de67-9b4b-44cc-f2d2-d622a9e754aa",
        "colab": {
          "base_uri": "https://localhost:8080/",
          "height": 554
        }
      },
      "cell_type": "code",
      "source": [
        "for item in items:\n",
        "  i = 0\n",
        "  maxT = 0\n",
        "  for percent in list:\n",
        "    #calculate GrossProfit\n",
        "    costWithoutPerc = data1[item][i] * data2[item][0]\n",
        "    cost = data2[item][0] * data1[item][i] #own cost product\n",
        "    temp = (costWithoutPerc * percent) + costWithoutPerc - cost\n",
        "    \n",
        "    if (temp > maxT): \n",
        "      maxT = temp\n",
        "      margine = percent\n",
        "    print(maxT)\n",
        "    i += 1\n",
        "    if (i == len(list)):\n",
        "      grossMargin.append(maxT)\n",
        "      bestMargin.append(margine)\n",
        "      print(item)\n",
        "      print(maxT)\n",
        "      print(\"---------------------------\")"
      ],
      "execution_count": 0,
      "outputs": [
        {
          "output_type": "stream",
          "text": [
            "112.5\n",
            "180.0\n",
            "236.25\n",
            "300.0\n",
            "300.0\n",
            "Bread\n",
            "300.0\n",
            "---------------------------\n",
            "320.0\n",
            "400.0\n",
            "570.0\n",
            "600.0\n",
            "900.0\n",
            "Beer\n",
            "900.0\n",
            "---------------------------\n",
            "440.0\n",
            "880.0\n",
            "1188.0\n",
            "1320.0\n",
            "1848.0\n",
            "Milk\n",
            "1848.0\n",
            "---------------------------\n",
            "175.0\n",
            "280.0\n",
            "378.0\n",
            "476.0\n",
            "476.0\n",
            "Sausage\n",
            "476.0\n",
            "---------------------------\n"
          ],
          "name": "stdout"
        }
      ]
    },
    {
      "metadata": {
        "id": "HT2xVp9wEyXl",
        "colab_type": "code",
        "outputId": "1413fa14-b647-414b-f5ea-14cbf12682fc",
        "colab": {
          "base_uri": "https://localhost:8080/",
          "height": 185
        }
      },
      "cell_type": "code",
      "source": [
        "i = 0\n",
        "for item in items:\n",
        "  data2[item][1] = bestMargin[i]\n",
        "  data2[item][2] = grossMargin[i]\n",
        "  i+=1"
      ],
      "execution_count": 0,
      "outputs": [
        {
          "output_type": "stream",
          "text": [
            "/usr/local/lib/python3.6/dist-packages/ipykernel_launcher.py:3: SettingWithCopyWarning: \n",
            "A value is trying to be set on a copy of a slice from a DataFrame\n",
            "\n",
            "See the caveats in the documentation: http://pandas.pydata.org/pandas-docs/stable/indexing.html#indexing-view-versus-copy\n",
            "  This is separate from the ipykernel package so we can avoid doing imports until\n",
            "/usr/local/lib/python3.6/dist-packages/ipykernel_launcher.py:4: SettingWithCopyWarning: \n",
            "A value is trying to be set on a copy of a slice from a DataFrame\n",
            "\n",
            "See the caveats in the documentation: http://pandas.pydata.org/pandas-docs/stable/indexing.html#indexing-view-versus-copy\n",
            "  after removing the cwd from sys.path.\n"
          ],
          "name": "stderr"
        }
      ]
    },
    {
      "metadata": {
        "id": "OYe2fXcMcdfj",
        "colab_type": "code",
        "outputId": "8b1fb68e-cf38-47c3-cfc9-5bc98b6985b4",
        "colab": {
          "base_uri": "https://localhost:8080/",
          "height": 166
        }
      },
      "cell_type": "code",
      "source": [
        "data2"
      ],
      "execution_count": 0,
      "outputs": [
        {
          "output_type": "execute_result",
          "data": {
            "text/html": [
              "<div>\n",
              "<style scoped>\n",
              "    .dataframe tbody tr th:only-of-type {\n",
              "        vertical-align: middle;\n",
              "    }\n",
              "\n",
              "    .dataframe tbody tr th {\n",
              "        vertical-align: top;\n",
              "    }\n",
              "\n",
              "    .dataframe thead th {\n",
              "        text-align: right;\n",
              "    }\n",
              "</style>\n",
              "<table border=\"1\" class=\"dataframe\">\n",
              "  <thead>\n",
              "    <tr style=\"text-align: right;\">\n",
              "      <th></th>\n",
              "      <th>Name</th>\n",
              "      <th>Bread</th>\n",
              "      <th>Beer</th>\n",
              "      <th>Milk</th>\n",
              "      <th>Sausage</th>\n",
              "    </tr>\n",
              "  </thead>\n",
              "  <tbody>\n",
              "    <tr>\n",
              "      <th>0</th>\n",
              "      <td>Cost of one</td>\n",
              "      <td>75.0</td>\n",
              "      <td>200.0</td>\n",
              "      <td>220.0</td>\n",
              "      <td>140.0</td>\n",
              "    </tr>\n",
              "    <tr>\n",
              "      <th>1</th>\n",
              "      <td>Best margin</td>\n",
              "      <td>0.2</td>\n",
              "      <td>0.3</td>\n",
              "      <td>0.3</td>\n",
              "      <td>0.2</td>\n",
              "    </tr>\n",
              "    <tr>\n",
              "      <th>2</th>\n",
              "      <td>Gross profit</td>\n",
              "      <td>300.0</td>\n",
              "      <td>900.0</td>\n",
              "      <td>1848.0</td>\n",
              "      <td>476.0</td>\n",
              "    </tr>\n",
              "    <tr>\n",
              "      <th>3</th>\n",
              "      <td>Total</td>\n",
              "      <td>0.0</td>\n",
              "      <td>NaN</td>\n",
              "      <td>NaN</td>\n",
              "      <td>NaN</td>\n",
              "    </tr>\n",
              "  </tbody>\n",
              "</table>\n",
              "</div>"
            ],
            "text/plain": [
              "           Name  Bread   Beer    Milk  Sausage\n",
              "0   Cost of one   75.0  200.0   220.0    140.0\n",
              "1   Best margin    0.2    0.3     0.3      0.2\n",
              "2  Gross profit  300.0  900.0  1848.0    476.0\n",
              "3         Total    0.0    NaN     NaN      NaN"
            ]
          },
          "metadata": {
            "tags": []
          },
          "execution_count": 8
        }
      ]
    },
    {
      "metadata": {
        "id": "KGubjuK-XcV2",
        "colab_type": "text"
      },
      "cell_type": "markdown",
      "source": [
        "**Building probability for each product**"
      ]
    },
    {
      "metadata": {
        "id": "Ka91PxHUIWi-",
        "colab_type": "code",
        "outputId": "04a4d037-a5cd-42ff-ec11-cf99134b0316",
        "colab": {
          "base_uri": "https://localhost:8080/",
          "height": 173
        }
      },
      "cell_type": "code",
      "source": [
        "data3.head(4)"
      ],
      "execution_count": 0,
      "outputs": [
        {
          "output_type": "execute_result",
          "data": {
            "text/html": [
              "<div>\n",
              "<style scoped>\n",
              "    .dataframe tbody tr th:only-of-type {\n",
              "        vertical-align: middle;\n",
              "    }\n",
              "\n",
              "    .dataframe tbody tr th {\n",
              "        vertical-align: top;\n",
              "    }\n",
              "\n",
              "    .dataframe thead th {\n",
              "        text-align: right;\n",
              "    }\n",
              "</style>\n",
              "<table border=\"1\" class=\"dataframe\">\n",
              "  <thead>\n",
              "    <tr style=\"text-align: right;\">\n",
              "      <th></th>\n",
              "      <th># of Check</th>\n",
              "      <th>Main Product</th>\n",
              "      <th>Product Group</th>\n",
              "      <th>Margin</th>\n",
              "      <th>Number of goods</th>\n",
              "      <th>Cost of Goods</th>\n",
              "    </tr>\n",
              "  </thead>\n",
              "  <tbody>\n",
              "    <tr>\n",
              "      <th>0</th>\n",
              "      <td>711</td>\n",
              "      <td>Alcohol</td>\n",
              "      <td>Drinks</td>\n",
              "      <td>0.05</td>\n",
              "      <td>3</td>\n",
              "      <td>500</td>\n",
              "    </tr>\n",
              "    <tr>\n",
              "      <th>1</th>\n",
              "      <td>711</td>\n",
              "      <td>Beauty</td>\n",
              "      <td>Household goods</td>\n",
              "      <td>0.05</td>\n",
              "      <td>2</td>\n",
              "      <td>1000</td>\n",
              "    </tr>\n",
              "    <tr>\n",
              "      <th>2</th>\n",
              "      <td>711</td>\n",
              "      <td>Bread</td>\n",
              "      <td>Bakery</td>\n",
              "      <td>0.05</td>\n",
              "      <td>2</td>\n",
              "      <td>70</td>\n",
              "    </tr>\n",
              "    <tr>\n",
              "      <th>3</th>\n",
              "      <td>711</td>\n",
              "      <td>Cleaning</td>\n",
              "      <td>Household goods</td>\n",
              "      <td>0.05</td>\n",
              "      <td>3</td>\n",
              "      <td>1000</td>\n",
              "    </tr>\n",
              "  </tbody>\n",
              "</table>\n",
              "</div>"
            ],
            "text/plain": [
              "   # of Check Main Product    Product Group  Margin  Number of goods  \\\n",
              "0         711      Alcohol           Drinks    0.05                3   \n",
              "1         711       Beauty  Household goods    0.05                2   \n",
              "2         711        Bread           Bakery    0.05                2   \n",
              "3         711     Cleaning  Household goods    0.05                3   \n",
              "\n",
              "   Cost of Goods  \n",
              "0            500  \n",
              "1           1000  \n",
              "2             70  \n",
              "3           1000  "
            ]
          },
          "metadata": {
            "tags": []
          },
          "execution_count": 38
        }
      ]
    },
    {
      "metadata": {
        "id": "VXODiB-Egpp1",
        "colab_type": "code",
        "colab": {}
      },
      "cell_type": "code",
      "source": [
        "table = pandas.pivot_table(data3, values='Number of goods', index=['# of Check'], columns=['Main Product'], aggfunc=np.sum)"
      ],
      "execution_count": 0,
      "outputs": []
    },
    {
      "metadata": {
        "id": "LSvaq_BXXvme",
        "colab_type": "code",
        "outputId": "c4b534e2-7f56-4abf-91cb-c0c4d2749f94",
        "colab": {
          "base_uri": "https://localhost:8080/",
          "height": 238
        }
      },
      "cell_type": "code",
      "source": [
        "table.head(4)"
      ],
      "execution_count": 0,
      "outputs": [
        {
          "output_type": "execute_result",
          "data": {
            "text/html": [
              "<div>\n",
              "<style scoped>\n",
              "    .dataframe tbody tr th:only-of-type {\n",
              "        vertical-align: middle;\n",
              "    }\n",
              "\n",
              "    .dataframe tbody tr th {\n",
              "        vertical-align: top;\n",
              "    }\n",
              "\n",
              "    .dataframe thead th {\n",
              "        text-align: right;\n",
              "    }\n",
              "</style>\n",
              "<table border=\"1\" class=\"dataframe\">\n",
              "  <thead>\n",
              "    <tr style=\"text-align: right;\">\n",
              "      <th>Main Product</th>\n",
              "      <th>Alcohol</th>\n",
              "      <th>Animals food</th>\n",
              "      <th>Beauty</th>\n",
              "      <th>Bread</th>\n",
              "      <th>Cleaning</th>\n",
              "      <th>Cookies and sweets</th>\n",
              "      <th>Frozen</th>\n",
              "      <th>Gastronomy</th>\n",
              "      <th>Grocery</th>\n",
              "      <th>Hygiene</th>\n",
              "      <th>Kids</th>\n",
              "      <th>Milky</th>\n",
              "      <th>Soft Drinks</th>\n",
              "      <th>Sweets</th>\n",
              "      <th>Tobacco</th>\n",
              "    </tr>\n",
              "    <tr>\n",
              "      <th># of Check</th>\n",
              "      <th></th>\n",
              "      <th></th>\n",
              "      <th></th>\n",
              "      <th></th>\n",
              "      <th></th>\n",
              "      <th></th>\n",
              "      <th></th>\n",
              "      <th></th>\n",
              "      <th></th>\n",
              "      <th></th>\n",
              "      <th></th>\n",
              "      <th></th>\n",
              "      <th></th>\n",
              "      <th></th>\n",
              "      <th></th>\n",
              "    </tr>\n",
              "  </thead>\n",
              "  <tbody>\n",
              "    <tr>\n",
              "      <th>711</th>\n",
              "      <td>3.0</td>\n",
              "      <td>NaN</td>\n",
              "      <td>2.0</td>\n",
              "      <td>2.0</td>\n",
              "      <td>3.0</td>\n",
              "      <td>2.0</td>\n",
              "      <td>2.0</td>\n",
              "      <td>2.0</td>\n",
              "      <td>6.0</td>\n",
              "      <td>3.0</td>\n",
              "      <td>7.0</td>\n",
              "      <td>2.0</td>\n",
              "      <td>5.0</td>\n",
              "      <td>9.0</td>\n",
              "      <td>NaN</td>\n",
              "    </tr>\n",
              "    <tr>\n",
              "      <th>712</th>\n",
              "      <td>NaN</td>\n",
              "      <td>NaN</td>\n",
              "      <td>NaN</td>\n",
              "      <td>2.0</td>\n",
              "      <td>NaN</td>\n",
              "      <td>NaN</td>\n",
              "      <td>NaN</td>\n",
              "      <td>NaN</td>\n",
              "      <td>NaN</td>\n",
              "      <td>NaN</td>\n",
              "      <td>NaN</td>\n",
              "      <td>5.0</td>\n",
              "      <td>NaN</td>\n",
              "      <td>NaN</td>\n",
              "      <td>NaN</td>\n",
              "    </tr>\n",
              "    <tr>\n",
              "      <th>713</th>\n",
              "      <td>NaN</td>\n",
              "      <td>NaN</td>\n",
              "      <td>NaN</td>\n",
              "      <td>3.0</td>\n",
              "      <td>NaN</td>\n",
              "      <td>NaN</td>\n",
              "      <td>NaN</td>\n",
              "      <td>3.0</td>\n",
              "      <td>9.0</td>\n",
              "      <td>NaN</td>\n",
              "      <td>NaN</td>\n",
              "      <td>3.0</td>\n",
              "      <td>NaN</td>\n",
              "      <td>NaN</td>\n",
              "      <td>NaN</td>\n",
              "    </tr>\n",
              "    <tr>\n",
              "      <th>714</th>\n",
              "      <td>NaN</td>\n",
              "      <td>NaN</td>\n",
              "      <td>NaN</td>\n",
              "      <td>2.0</td>\n",
              "      <td>NaN</td>\n",
              "      <td>NaN</td>\n",
              "      <td>NaN</td>\n",
              "      <td>NaN</td>\n",
              "      <td>NaN</td>\n",
              "      <td>NaN</td>\n",
              "      <td>NaN</td>\n",
              "      <td>NaN</td>\n",
              "      <td>NaN</td>\n",
              "      <td>NaN</td>\n",
              "      <td>NaN</td>\n",
              "    </tr>\n",
              "  </tbody>\n",
              "</table>\n",
              "</div>"
            ],
            "text/plain": [
              "Main Product  Alcohol  Animals food  Beauty  Bread  Cleaning  \\\n",
              "# of Check                                                     \n",
              "711               3.0           NaN     2.0    2.0       3.0   \n",
              "712               NaN           NaN     NaN    2.0       NaN   \n",
              "713               NaN           NaN     NaN    3.0       NaN   \n",
              "714               NaN           NaN     NaN    2.0       NaN   \n",
              "\n",
              "Main Product  Cookies and sweets  Frozen  Gastronomy  Grocery  Hygiene  Kids  \\\n",
              "# of Check                                                                     \n",
              "711                          2.0     2.0         2.0      6.0      3.0   7.0   \n",
              "712                          NaN     NaN         NaN      NaN      NaN   NaN   \n",
              "713                          NaN     NaN         3.0      9.0      NaN   NaN   \n",
              "714                          NaN     NaN         NaN      NaN      NaN   NaN   \n",
              "\n",
              "Main Product  Milky  Soft Drinks  Sweets  Tobacco  \n",
              "# of Check                                         \n",
              "711             2.0          5.0     9.0      NaN  \n",
              "712             5.0          NaN     NaN      NaN  \n",
              "713             3.0          NaN     NaN      NaN  \n",
              "714             NaN          NaN     NaN      NaN  "
            ]
          },
          "metadata": {
            "tags": []
          },
          "execution_count": 40
        }
      ]
    },
    {
      "metadata": {
        "id": "8987bseP1Kpi",
        "colab_type": "code",
        "colab": {}
      },
      "cell_type": "code",
      "source": [
        "prods = table.columns"
      ],
      "execution_count": 0,
      "outputs": []
    },
    {
      "metadata": {
        "id": "Qmsbq4lWjp3F",
        "colab_type": "code",
        "colab": {}
      },
      "cell_type": "code",
      "source": [
        "for col in range(table.shape[0]): \n",
        "  for row in range(table.shape[1]):\n",
        "    if (table.values[col][row] > 0):\n",
        "      table.values[col][row] = 1\n",
        "    else:\n",
        "      table.values[col][row] = 0"
      ],
      "execution_count": 0,
      "outputs": []
    },
    {
      "metadata": {
        "id": "Hwxg15UBqCl_",
        "colab_type": "code",
        "colab": {}
      },
      "cell_type": "code",
      "source": [
        "newTable = table.corr(method = 'kendall')\n",
        "for col in range(newTable.shape[0]):\n",
        "  for row in range(newTable.shape[1]):\n",
        "    newTable.values[col][row] = 0"
      ],
      "execution_count": 0,
      "outputs": []
    },
    {
      "metadata": {
        "id": "gbJpWmN5AYDV",
        "colab_type": "code",
        "colab": {}
      },
      "cell_type": "code",
      "source": [
        "col = 0\n",
        "for pr1 in prods:\n",
        "  row = 0\n",
        "  for pr2 in prods:\n",
        "    #if((row-col) >= 1):\n",
        "    #  newTable.values[col][row] = 0\n",
        "    #else:\n",
        "    newTable.values[col][row] = (table[pr1].sum()/table.shape[0]) * ((table[pr1]*table[pr2]).sum()/(table[pr1].sum()))\n",
        "    newTable.values[col][row]*=100\n",
        "    row+=1\n",
        "  col+=1"
      ],
      "execution_count": 0,
      "outputs": []
    },
    {
      "metadata": {
        "id": "YzHzIk7_Yxec",
        "colab_type": "code",
        "colab": {}
      },
      "cell_type": "code",
      "source": [
        "col = 0\n",
        "for pr1 in prods:\n",
        "  row = 0\n",
        "  t = table[pr1].values\n",
        "  for pr2 in prods:\n",
        "    t = t*table[pr2]\n",
        "    row+=1\n",
        "  if(row==col):\n",
        "    newTable.values[col][row] = t.sum()/table[pr1].sum()\n",
        "  col+=1"
      ],
      "execution_count": 0,
      "outputs": []
    },
    {
      "metadata": {
        "id": "2ce4NyCq1ery",
        "colab_type": "code",
        "outputId": "93c5f00a-a648-4b4a-8c3b-bee6bc501021",
        "colab": {
          "base_uri": "https://localhost:8080/",
          "height": 34
        }
      },
      "cell_type": "code",
      "source": [
        "table['Alcohol'].values"
      ],
      "execution_count": 0,
      "outputs": [
        {
          "output_type": "execute_result",
          "data": {
            "text/plain": [
              "array([0., 0., 0., ..., 0., 0., 0.])"
            ]
          },
          "metadata": {
            "tags": []
          },
          "execution_count": 36
        }
      ]
    },
    {
      "metadata": {
        "id": "CdZGUlE31h9J",
        "colab_type": "code",
        "colab": {}
      },
      "cell_type": "code",
      "source": [
        "t"
      ],
      "execution_count": 0,
      "outputs": []
    },
    {
      "metadata": {
        "id": "5wjgZrLq-BZ3",
        "colab_type": "code",
        "outputId": "2a8db371-f7c4-4af4-9f72-8b0a75fa956d",
        "colab": {
          "base_uri": "https://localhost:8080/",
          "height": 457
        }
      },
      "cell_type": "code",
      "source": [
        "sns.heatmap(newTable, annot = True)"
      ],
      "execution_count": 0,
      "outputs": [
        {
          "output_type": "execute_result",
          "data": {
            "text/plain": [
              "<matplotlib.axes._subplots.AxesSubplot at 0x7feff3cd3a90>"
            ]
          },
          "metadata": {
            "tags": []
          },
          "execution_count": 15
        },
        {
          "output_type": "display_data",
          "data": {
            "image/png": "[encoded data removed]",
            "text/plain": [
              "<Figure size 576x396 with 2 Axes>"
            ]
          },
          "metadata": {
            "tags": []
          }
        }
      ]
    },
    {
      "metadata": {
        "id": "kZAIUfSXqCkH",
        "colab_type": "code",
        "colab": {}
      },
      "cell_type": "code",
      "source": [
        "col = 0\n",
        "for pr1 in prods:\n",
        "  row = 0\n",
        "  for pr2 in prods:\n",
        "    newTable.values[col][row] = (table[pr1] * table[pr2]).sum()\n",
        "    row+=1\n",
        "  col+=1"
      ],
      "execution_count": 0,
      "outputs": []
    },
    {
      "metadata": {
        "id": "8g3qgzsdzLW-",
        "colab_type": "code",
        "colab": {}
      },
      "cell_type": "code",
      "source": [
        "col = 0\n",
        "for pr1 in prods:\n",
        "  row = 0\n",
        "  t = table[pr1]\n",
        "  for pr2 in prods:\n",
        "    t*=table[pr2]\n",
        "    row+=1\n",
        "  if(row==col):\n",
        "    newTable.values[col][row] = t.sum()\n",
        "  col+=1"
      ],
      "execution_count": 0,
      "outputs": []
    },
    {
      "metadata": {
        "id": "tTIII2g9zLUU",
        "colab_type": "code",
        "outputId": "aa18e28a-8667-48bb-8df4-6ff4822c5215",
        "colab": {
          "base_uri": "https://localhost:8080/",
          "height": 579
        }
      },
      "cell_type": "code",
      "source": [
        "newTable"
      ],
      "execution_count": 0,
      "outputs": [
        {
          "output_type": "execute_result",
          "data": {
            "text/html": [
              "<div>\n",
              "<style scoped>\n",
              "    .dataframe tbody tr th:only-of-type {\n",
              "        vertical-align: middle;\n",
              "    }\n",
              "\n",
              "    .dataframe tbody tr th {\n",
              "        vertical-align: top;\n",
              "    }\n",
              "\n",
              "    .dataframe thead th {\n",
              "        text-align: right;\n",
              "    }\n",
              "</style>\n",
              "<table border=\"1\" class=\"dataframe\">\n",
              "  <thead>\n",
              "    <tr style=\"text-align: right;\">\n",
              "      <th>Main Product</th>\n",
              "      <th>Alcohol</th>\n",
              "      <th>Animals food</th>\n",
              "      <th>Beauty</th>\n",
              "      <th>Bread</th>\n",
              "      <th>Cleaning</th>\n",
              "      <th>Cookies and sweets</th>\n",
              "      <th>Frozen</th>\n",
              "      <th>Gastronomy</th>\n",
              "      <th>Grocery</th>\n",
              "      <th>Hygiene</th>\n",
              "      <th>Kids</th>\n",
              "      <th>Milky</th>\n",
              "      <th>Soft Drinks</th>\n",
              "      <th>Sweets</th>\n",
              "      <th>Tobacco</th>\n",
              "    </tr>\n",
              "    <tr>\n",
              "      <th>Main Product</th>\n",
              "      <th></th>\n",
              "      <th></th>\n",
              "      <th></th>\n",
              "      <th></th>\n",
              "      <th></th>\n",
              "      <th></th>\n",
              "      <th></th>\n",
              "      <th></th>\n",
              "      <th></th>\n",
              "      <th></th>\n",
              "      <th></th>\n",
              "      <th></th>\n",
              "      <th></th>\n",
              "      <th></th>\n",
              "      <th></th>\n",
              "    </tr>\n",
              "  </thead>\n",
              "  <tbody>\n",
              "    <tr>\n",
              "      <th>Alcohol</th>\n",
              "      <td>63.0</td>\n",
              "      <td>63.0</td>\n",
              "      <td>63.0</td>\n",
              "      <td>63.0</td>\n",
              "      <td>63.0</td>\n",
              "      <td>63.0</td>\n",
              "      <td>63.0</td>\n",
              "      <td>63.0</td>\n",
              "      <td>63.0</td>\n",
              "      <td>63.0</td>\n",
              "      <td>63.0</td>\n",
              "      <td>63.0</td>\n",
              "      <td>63.0</td>\n",
              "      <td>63.0</td>\n",
              "      <td>63.0</td>\n",
              "    </tr>\n",
              "    <tr>\n",
              "      <th>Animals food</th>\n",
              "      <td>63.0</td>\n",
              "      <td>63.0</td>\n",
              "      <td>63.0</td>\n",
              "      <td>63.0</td>\n",
              "      <td>63.0</td>\n",
              "      <td>63.0</td>\n",
              "      <td>63.0</td>\n",
              "      <td>63.0</td>\n",
              "      <td>63.0</td>\n",
              "      <td>63.0</td>\n",
              "      <td>63.0</td>\n",
              "      <td>63.0</td>\n",
              "      <td>63.0</td>\n",
              "      <td>63.0</td>\n",
              "      <td>63.0</td>\n",
              "    </tr>\n",
              "    <tr>\n",
              "      <th>Beauty</th>\n",
              "      <td>63.0</td>\n",
              "      <td>63.0</td>\n",
              "      <td>63.0</td>\n",
              "      <td>63.0</td>\n",
              "      <td>63.0</td>\n",
              "      <td>63.0</td>\n",
              "      <td>63.0</td>\n",
              "      <td>63.0</td>\n",
              "      <td>63.0</td>\n",
              "      <td>63.0</td>\n",
              "      <td>63.0</td>\n",
              "      <td>63.0</td>\n",
              "      <td>63.0</td>\n",
              "      <td>63.0</td>\n",
              "      <td>63.0</td>\n",
              "    </tr>\n",
              "    <tr>\n",
              "      <th>Bread</th>\n",
              "      <td>63.0</td>\n",
              "      <td>63.0</td>\n",
              "      <td>63.0</td>\n",
              "      <td>63.0</td>\n",
              "      <td>63.0</td>\n",
              "      <td>63.0</td>\n",
              "      <td>63.0</td>\n",
              "      <td>63.0</td>\n",
              "      <td>63.0</td>\n",
              "      <td>63.0</td>\n",
              "      <td>63.0</td>\n",
              "      <td>63.0</td>\n",
              "      <td>63.0</td>\n",
              "      <td>63.0</td>\n",
              "      <td>63.0</td>\n",
              "    </tr>\n",
              "    <tr>\n",
              "      <th>Cleaning</th>\n",
              "      <td>63.0</td>\n",
              "      <td>63.0</td>\n",
              "      <td>63.0</td>\n",
              "      <td>63.0</td>\n",
              "      <td>63.0</td>\n",
              "      <td>63.0</td>\n",
              "      <td>63.0</td>\n",
              "      <td>63.0</td>\n",
              "      <td>63.0</td>\n",
              "      <td>63.0</td>\n",
              "      <td>63.0</td>\n",
              "      <td>63.0</td>\n",
              "      <td>63.0</td>\n",
              "      <td>63.0</td>\n",
              "      <td>63.0</td>\n",
              "    </tr>\n",
              "    <tr>\n",
              "      <th>Cookies and sweets</th>\n",
              "      <td>63.0</td>\n",
              "      <td>63.0</td>\n",
              "      <td>63.0</td>\n",
              "      <td>63.0</td>\n",
              "      <td>63.0</td>\n",
              "      <td>63.0</td>\n",
              "      <td>63.0</td>\n",
              "      <td>63.0</td>\n",
              "      <td>63.0</td>\n",
              "      <td>63.0</td>\n",
              "      <td>63.0</td>\n",
              "      <td>63.0</td>\n",
              "      <td>63.0</td>\n",
              "      <td>63.0</td>\n",
              "      <td>63.0</td>\n",
              "    </tr>\n",
              "    <tr>\n",
              "      <th>Frozen</th>\n",
              "      <td>63.0</td>\n",
              "      <td>63.0</td>\n",
              "      <td>63.0</td>\n",
              "      <td>63.0</td>\n",
              "      <td>63.0</td>\n",
              "      <td>63.0</td>\n",
              "      <td>63.0</td>\n",
              "      <td>63.0</td>\n",
              "      <td>63.0</td>\n",
              "      <td>63.0</td>\n",
              "      <td>63.0</td>\n",
              "      <td>63.0</td>\n",
              "      <td>63.0</td>\n",
              "      <td>63.0</td>\n",
              "      <td>63.0</td>\n",
              "    </tr>\n",
              "    <tr>\n",
              "      <th>Gastronomy</th>\n",
              "      <td>63.0</td>\n",
              "      <td>63.0</td>\n",
              "      <td>63.0</td>\n",
              "      <td>63.0</td>\n",
              "      <td>63.0</td>\n",
              "      <td>63.0</td>\n",
              "      <td>63.0</td>\n",
              "      <td>63.0</td>\n",
              "      <td>63.0</td>\n",
              "      <td>63.0</td>\n",
              "      <td>63.0</td>\n",
              "      <td>63.0</td>\n",
              "      <td>63.0</td>\n",
              "      <td>63.0</td>\n",
              "      <td>63.0</td>\n",
              "    </tr>\n",
              "    <tr>\n",
              "      <th>Grocery</th>\n",
              "      <td>63.0</td>\n",
              "      <td>63.0</td>\n",
              "      <td>63.0</td>\n",
              "      <td>63.0</td>\n",
              "      <td>63.0</td>\n",
              "      <td>63.0</td>\n",
              "      <td>63.0</td>\n",
              "      <td>63.0</td>\n",
              "      <td>63.0</td>\n",
              "      <td>63.0</td>\n",
              "      <td>63.0</td>\n",
              "      <td>63.0</td>\n",
              "      <td>63.0</td>\n",
              "      <td>63.0</td>\n",
              "      <td>63.0</td>\n",
              "    </tr>\n",
              "    <tr>\n",
              "      <th>Hygiene</th>\n",
              "      <td>63.0</td>\n",
              "      <td>63.0</td>\n",
              "      <td>63.0</td>\n",
              "      <td>63.0</td>\n",
              "      <td>63.0</td>\n",
              "      <td>63.0</td>\n",
              "      <td>63.0</td>\n",
              "      <td>63.0</td>\n",
              "      <td>63.0</td>\n",
              "      <td>63.0</td>\n",
              "      <td>63.0</td>\n",
              "      <td>63.0</td>\n",
              "      <td>63.0</td>\n",
              "      <td>63.0</td>\n",
              "      <td>63.0</td>\n",
              "    </tr>\n",
              "    <tr>\n",
              "      <th>Kids</th>\n",
              "      <td>63.0</td>\n",
              "      <td>63.0</td>\n",
              "      <td>63.0</td>\n",
              "      <td>63.0</td>\n",
              "      <td>63.0</td>\n",
              "      <td>63.0</td>\n",
              "      <td>63.0</td>\n",
              "      <td>63.0</td>\n",
              "      <td>63.0</td>\n",
              "      <td>63.0</td>\n",
              "      <td>63.0</td>\n",
              "      <td>63.0</td>\n",
              "      <td>63.0</td>\n",
              "      <td>63.0</td>\n",
              "      <td>63.0</td>\n",
              "    </tr>\n",
              "    <tr>\n",
              "      <th>Milky</th>\n",
              "      <td>63.0</td>\n",
              "      <td>63.0</td>\n",
              "      <td>63.0</td>\n",
              "      <td>63.0</td>\n",
              "      <td>63.0</td>\n",
              "      <td>63.0</td>\n",
              "      <td>63.0</td>\n",
              "      <td>63.0</td>\n",
              "      <td>63.0</td>\n",
              "      <td>63.0</td>\n",
              "      <td>63.0</td>\n",
              "      <td>63.0</td>\n",
              "      <td>63.0</td>\n",
              "      <td>63.0</td>\n",
              "      <td>63.0</td>\n",
              "    </tr>\n",
              "    <tr>\n",
              "      <th>Soft Drinks</th>\n",
              "      <td>63.0</td>\n",
              "      <td>63.0</td>\n",
              "      <td>63.0</td>\n",
              "      <td>63.0</td>\n",
              "      <td>63.0</td>\n",
              "      <td>63.0</td>\n",
              "      <td>63.0</td>\n",
              "      <td>63.0</td>\n",
              "      <td>63.0</td>\n",
              "      <td>63.0</td>\n",
              "      <td>63.0</td>\n",
              "      <td>63.0</td>\n",
              "      <td>63.0</td>\n",
              "      <td>63.0</td>\n",
              "      <td>63.0</td>\n",
              "    </tr>\n",
              "    <tr>\n",
              "      <th>Sweets</th>\n",
              "      <td>63.0</td>\n",
              "      <td>63.0</td>\n",
              "      <td>63.0</td>\n",
              "      <td>63.0</td>\n",
              "      <td>63.0</td>\n",
              "      <td>63.0</td>\n",
              "      <td>63.0</td>\n",
              "      <td>63.0</td>\n",
              "      <td>63.0</td>\n",
              "      <td>63.0</td>\n",
              "      <td>63.0</td>\n",
              "      <td>63.0</td>\n",
              "      <td>63.0</td>\n",
              "      <td>63.0</td>\n",
              "      <td>63.0</td>\n",
              "    </tr>\n",
              "    <tr>\n",
              "      <th>Tobacco</th>\n",
              "      <td>63.0</td>\n",
              "      <td>63.0</td>\n",
              "      <td>63.0</td>\n",
              "      <td>63.0</td>\n",
              "      <td>63.0</td>\n",
              "      <td>63.0</td>\n",
              "      <td>63.0</td>\n",
              "      <td>63.0</td>\n",
              "      <td>63.0</td>\n",
              "      <td>63.0</td>\n",
              "      <td>63.0</td>\n",
              "      <td>63.0</td>\n",
              "      <td>63.0</td>\n",
              "      <td>63.0</td>\n",
              "      <td>63.0</td>\n",
              "    </tr>\n",
              "  </tbody>\n",
              "</table>\n",
              "</div>"
            ],
            "text/plain": [
              "Main Product        Alcohol  Animals food  Beauty  Bread  Cleaning  \\\n",
              "Main Product                                                         \n",
              "Alcohol                63.0          63.0    63.0   63.0      63.0   \n",
              "Animals food           63.0          63.0    63.0   63.0      63.0   \n",
              "Beauty                 63.0          63.0    63.0   63.0      63.0   \n",
              "Bread                  63.0          63.0    63.0   63.0      63.0   \n",
              "Cleaning               63.0          63.0    63.0   63.0      63.0   \n",
              "Cookies and sweets     63.0          63.0    63.0   63.0      63.0   \n",
              "Frozen                 63.0          63.0    63.0   63.0      63.0   \n",
              "Gastronomy             63.0          63.0    63.0   63.0      63.0   \n",
              "Grocery                63.0          63.0    63.0   63.0      63.0   \n",
              "Hygiene                63.0          63.0    63.0   63.0      63.0   \n",
              "Kids                   63.0          63.0    63.0   63.0      63.0   \n",
              "Milky                  63.0          63.0    63.0   63.0      63.0   \n",
              "Soft Drinks            63.0          63.0    63.0   63.0      63.0   \n",
              "Sweets                 63.0          63.0    63.0   63.0      63.0   \n",
              "Tobacco                63.0          63.0    63.0   63.0      63.0   \n",
              "\n",
              "Main Product        Cookies and sweets  Frozen  Gastronomy  Grocery  Hygiene  \\\n",
              "Main Product                                                                   \n",
              "Alcohol                           63.0    63.0        63.0     63.0     63.0   \n",
              "Animals food                      63.0    63.0        63.0     63.0     63.0   \n",
              "Beauty                            63.0    63.0        63.0     63.0     63.0   \n",
              "Bread                             63.0    63.0        63.0     63.0     63.0   \n",
              "Cleaning                          63.0    63.0        63.0     63.0     63.0   \n",
              "Cookies and sweets                63.0    63.0        63.0     63.0     63.0   \n",
              "Frozen                            63.0    63.0        63.0     63.0     63.0   \n",
              "Gastronomy                        63.0    63.0        63.0     63.0     63.0   \n",
              "Grocery                           63.0    63.0        63.0     63.0     63.0   \n",
              "Hygiene                           63.0    63.0        63.0     63.0     63.0   \n",
              "Kids                              63.0    63.0        63.0     63.0     63.0   \n",
              "Milky                             63.0    63.0        63.0     63.0     63.0   \n",
              "Soft Drinks                       63.0    63.0        63.0     63.0     63.0   \n",
              "Sweets                            63.0    63.0        63.0     63.0     63.0   \n",
              "Tobacco                           63.0    63.0        63.0     63.0     63.0   \n",
              "\n",
              "Main Product        Kids  Milky  Soft Drinks  Sweets  Tobacco  \n",
              "Main Product                                                   \n",
              "Alcohol             63.0   63.0         63.0    63.0     63.0  \n",
              "Animals food        63.0   63.0         63.0    63.0     63.0  \n",
              "Beauty              63.0   63.0         63.0    63.0     63.0  \n",
              "Bread               63.0   63.0         63.0    63.0     63.0  \n",
              "Cleaning            63.0   63.0         63.0    63.0     63.0  \n",
              "Cookies and sweets  63.0   63.0         63.0    63.0     63.0  \n",
              "Frozen              63.0   63.0         63.0    63.0     63.0  \n",
              "Gastronomy          63.0   63.0         63.0    63.0     63.0  \n",
              "Grocery             63.0   63.0         63.0    63.0     63.0  \n",
              "Hygiene             63.0   63.0         63.0    63.0     63.0  \n",
              "Kids                63.0   63.0         63.0    63.0     63.0  \n",
              "Milky               63.0   63.0         63.0    63.0     63.0  \n",
              "Soft Drinks         63.0   63.0         63.0    63.0     63.0  \n",
              "Sweets              63.0   63.0         63.0    63.0     63.0  \n",
              "Tobacco             63.0   63.0         63.0    63.0     63.0  "
            ]
          },
          "metadata": {
            "tags": []
          },
          "execution_count": 109
        }
      ]
    },
    {
      "metadata": {
        "id": "hMEPosPRzLRz",
        "colab_type": "code",
        "outputId": "3d12724c-6d2c-4dce-87fe-28b0e28468a7",
        "colab": {
          "base_uri": "https://localhost:8080/",
          "height": 1088
        }
      },
      "cell_type": "code",
      "source": [
        "table['Alcohol']"
      ],
      "execution_count": 0,
      "outputs": [
        {
          "output_type": "execute_result",
          "data": {
            "text/plain": [
              "# of Check\n",
              "711     0.0\n",
              "712     0.0\n",
              "713     0.0\n",
              "714     0.0\n",
              "715     0.0\n",
              "716     0.0\n",
              "717     0.0\n",
              "718     0.0\n",
              "719     0.0\n",
              "720     0.0\n",
              "721     0.0\n",
              "722     0.0\n",
              "723     0.0\n",
              "724     0.0\n",
              "725     0.0\n",
              "726     0.0\n",
              "727     0.0\n",
              "728     0.0\n",
              "729     0.0\n",
              "730     0.0\n",
              "731     0.0\n",
              "732     0.0\n",
              "733     0.0\n",
              "734     1.0\n",
              "735     0.0\n",
              "736     0.0\n",
              "737     0.0\n",
              "738     0.0\n",
              "739     0.0\n",
              "740     0.0\n",
              "       ... \n",
              "3882    0.0\n",
              "3883    0.0\n",
              "3884    0.0\n",
              "3885    0.0\n",
              "3886    0.0\n",
              "3887    0.0\n",
              "3888    0.0\n",
              "3889    0.0\n",
              "3890    0.0\n",
              "3891    0.0\n",
              "3892    0.0\n",
              "3893    0.0\n",
              "3894    0.0\n",
              "3895    0.0\n",
              "3896    0.0\n",
              "3897    0.0\n",
              "3898    0.0\n",
              "3899    0.0\n",
              "3900    0.0\n",
              "3901    0.0\n",
              "3902    0.0\n",
              "3903    0.0\n",
              "3904    0.0\n",
              "3905    0.0\n",
              "3906    0.0\n",
              "3907    0.0\n",
              "3908    0.0\n",
              "3909    0.0\n",
              "3910    0.0\n",
              "3911    0.0\n",
              "Name: Alcohol, Length: 3201, dtype: float64"
            ]
          },
          "metadata": {
            "tags": []
          },
          "execution_count": 110
        }
      ]
    },
    {
      "metadata": {
        "id": "Zqva0qsnzLQE",
        "colab_type": "code",
        "colab": {}
      },
      "cell_type": "code",
      "source": [
        ""
      ],
      "execution_count": 0,
      "outputs": []
    },
    {
      "metadata": {
        "id": "bezMpPUgqCiN",
        "colab_type": "code",
        "colab": {}
      },
      "cell_type": "code",
      "source": [
        ""
      ],
      "execution_count": 0,
      "outputs": []
    },
    {
      "metadata": {
        "id": "xnmGtHU5zGIl",
        "colab_type": "code",
        "colab": {}
      },
      "cell_type": "code",
      "source": [
        "import scipy\n",
        "from scipy.stats import pearsonr"
      ],
      "execution_count": 0,
      "outputs": []
    },
    {
      "metadata": {
        "id": "K9gfh4eesyFr",
        "colab_type": "code",
        "outputId": "d94f2a81-fa29-49e5-b3c6-d9bd299ccdb7",
        "colab": {
          "base_uri": "https://localhost:8080/",
          "height": 650
        }
      },
      "cell_type": "code",
      "source": [
        "table1 = table.corr(method = 'kendall')\n",
        "table1"
      ],
      "execution_count": 0,
      "outputs": [
        {
          "output_type": "execute_result",
          "data": {
            "text/html": [
              "<div>\n",
              "<style scoped>\n",
              "    .dataframe tbody tr th:only-of-type {\n",
              "        vertical-align: middle;\n",
              "    }\n",
              "\n",
              "    .dataframe tbody tr th {\n",
              "        vertical-align: top;\n",
              "    }\n",
              "\n",
              "    .dataframe thead th {\n",
              "        text-align: right;\n",
              "    }\n",
              "</style>\n",
              "<table border=\"1\" class=\"dataframe\">\n",
              "  <thead>\n",
              "    <tr style=\"text-align: right;\">\n",
              "      <th>Main Product</th>\n",
              "      <th>Alcohol</th>\n",
              "      <th>Animals food</th>\n",
              "      <th>Beauty</th>\n",
              "      <th>Bread</th>\n",
              "      <th>Cleaning</th>\n",
              "      <th>Cookies and sweets</th>\n",
              "      <th>Frozen</th>\n",
              "      <th>Gastronomy</th>\n",
              "      <th>Grocery</th>\n",
              "      <th>Hygiene</th>\n",
              "      <th>Kids</th>\n",
              "      <th>Milky</th>\n",
              "      <th>Soft Drinks</th>\n",
              "      <th>Sweets</th>\n",
              "      <th>Tobacco</th>\n",
              "    </tr>\n",
              "    <tr>\n",
              "      <th>Main Product</th>\n",
              "      <th></th>\n",
              "      <th></th>\n",
              "      <th></th>\n",
              "      <th></th>\n",
              "      <th></th>\n",
              "      <th></th>\n",
              "      <th></th>\n",
              "      <th></th>\n",
              "      <th></th>\n",
              "      <th></th>\n",
              "      <th></th>\n",
              "      <th></th>\n",
              "      <th></th>\n",
              "      <th></th>\n",
              "      <th></th>\n",
              "    </tr>\n",
              "  </thead>\n",
              "  <tbody>\n",
              "    <tr>\n",
              "      <th>Alcohol</th>\n",
              "      <td>1.000000</td>\n",
              "      <td>0.319321</td>\n",
              "      <td>0.287725</td>\n",
              "      <td>0.267596</td>\n",
              "      <td>0.129988</td>\n",
              "      <td>0.236606</td>\n",
              "      <td>0.371851</td>\n",
              "      <td>0.375432</td>\n",
              "      <td>0.341899</td>\n",
              "      <td>0.139264</td>\n",
              "      <td>0.327499</td>\n",
              "      <td>-0.022521</td>\n",
              "      <td>0.397533</td>\n",
              "      <td>0.293797</td>\n",
              "      <td>0.415905</td>\n",
              "    </tr>\n",
              "    <tr>\n",
              "      <th>Animals food</th>\n",
              "      <td>0.319321</td>\n",
              "      <td>1.000000</td>\n",
              "      <td>0.588826</td>\n",
              "      <td>0.128554</td>\n",
              "      <td>0.627845</td>\n",
              "      <td>0.174380</td>\n",
              "      <td>0.416522</td>\n",
              "      <td>0.107688</td>\n",
              "      <td>0.197841</td>\n",
              "      <td>0.622945</td>\n",
              "      <td>0.252988</td>\n",
              "      <td>-0.021083</td>\n",
              "      <td>0.109413</td>\n",
              "      <td>0.193293</td>\n",
              "      <td>0.257111</td>\n",
              "    </tr>\n",
              "    <tr>\n",
              "      <th>Beauty</th>\n",
              "      <td>0.287725</td>\n",
              "      <td>0.588826</td>\n",
              "      <td>1.000000</td>\n",
              "      <td>0.048198</td>\n",
              "      <td>0.657942</td>\n",
              "      <td>0.100690</td>\n",
              "      <td>0.361222</td>\n",
              "      <td>0.155066</td>\n",
              "      <td>0.121748</td>\n",
              "      <td>0.716428</td>\n",
              "      <td>0.158881</td>\n",
              "      <td>-0.047169</td>\n",
              "      <td>0.128850</td>\n",
              "      <td>0.107701</td>\n",
              "      <td>0.438659</td>\n",
              "    </tr>\n",
              "    <tr>\n",
              "      <th>Bread</th>\n",
              "      <td>0.267596</td>\n",
              "      <td>0.128554</td>\n",
              "      <td>0.048198</td>\n",
              "      <td>1.000000</td>\n",
              "      <td>0.018743</td>\n",
              "      <td>0.591268</td>\n",
              "      <td>0.298024</td>\n",
              "      <td>0.416526</td>\n",
              "      <td>0.388164</td>\n",
              "      <td>0.033706</td>\n",
              "      <td>0.583934</td>\n",
              "      <td>0.526958</td>\n",
              "      <td>0.358054</td>\n",
              "      <td>0.565987</td>\n",
              "      <td>0.026311</td>\n",
              "    </tr>\n",
              "    <tr>\n",
              "      <th>Cleaning</th>\n",
              "      <td>0.129988</td>\n",
              "      <td>0.627845</td>\n",
              "      <td>0.657942</td>\n",
              "      <td>0.018743</td>\n",
              "      <td>1.000000</td>\n",
              "      <td>0.090203</td>\n",
              "      <td>0.218328</td>\n",
              "      <td>0.057132</td>\n",
              "      <td>0.043729</td>\n",
              "      <td>0.837305</td>\n",
              "      <td>0.167118</td>\n",
              "      <td>-0.039460</td>\n",
              "      <td>0.053932</td>\n",
              "      <td>0.105670</td>\n",
              "      <td>0.281265</td>\n",
              "    </tr>\n",
              "    <tr>\n",
              "      <th>Cookies and sweets</th>\n",
              "      <td>0.236606</td>\n",
              "      <td>0.174380</td>\n",
              "      <td>0.100690</td>\n",
              "      <td>0.591268</td>\n",
              "      <td>0.090203</td>\n",
              "      <td>1.000000</td>\n",
              "      <td>0.341644</td>\n",
              "      <td>0.343705</td>\n",
              "      <td>0.406910</td>\n",
              "      <td>0.091819</td>\n",
              "      <td>0.646536</td>\n",
              "      <td>0.539586</td>\n",
              "      <td>0.400753</td>\n",
              "      <td>0.666496</td>\n",
              "      <td>0.056428</td>\n",
              "    </tr>\n",
              "    <tr>\n",
              "      <th>Frozen</th>\n",
              "      <td>0.371851</td>\n",
              "      <td>0.416522</td>\n",
              "      <td>0.361222</td>\n",
              "      <td>0.298024</td>\n",
              "      <td>0.218328</td>\n",
              "      <td>0.341644</td>\n",
              "      <td>1.000000</td>\n",
              "      <td>0.276159</td>\n",
              "      <td>0.460216</td>\n",
              "      <td>0.230439</td>\n",
              "      <td>0.309515</td>\n",
              "      <td>0.070664</td>\n",
              "      <td>0.344814</td>\n",
              "      <td>0.352819</td>\n",
              "      <td>0.241036</td>\n",
              "    </tr>\n",
              "    <tr>\n",
              "      <th>Gastronomy</th>\n",
              "      <td>0.375432</td>\n",
              "      <td>0.107688</td>\n",
              "      <td>0.155066</td>\n",
              "      <td>0.416526</td>\n",
              "      <td>0.057132</td>\n",
              "      <td>0.343705</td>\n",
              "      <td>0.276159</td>\n",
              "      <td>1.000000</td>\n",
              "      <td>0.484041</td>\n",
              "      <td>0.054321</td>\n",
              "      <td>0.488340</td>\n",
              "      <td>0.271577</td>\n",
              "      <td>0.380893</td>\n",
              "      <td>0.520518</td>\n",
              "      <td>0.158902</td>\n",
              "    </tr>\n",
              "    <tr>\n",
              "      <th>Grocery</th>\n",
              "      <td>0.341899</td>\n",
              "      <td>0.197841</td>\n",
              "      <td>0.121748</td>\n",
              "      <td>0.388164</td>\n",
              "      <td>0.043729</td>\n",
              "      <td>0.406910</td>\n",
              "      <td>0.460216</td>\n",
              "      <td>0.484041</td>\n",
              "      <td>1.000000</td>\n",
              "      <td>0.060731</td>\n",
              "      <td>0.327822</td>\n",
              "      <td>0.294718</td>\n",
              "      <td>0.438219</td>\n",
              "      <td>0.408222</td>\n",
              "      <td>0.186777</td>\n",
              "    </tr>\n",
              "    <tr>\n",
              "      <th>Hygiene</th>\n",
              "      <td>0.139264</td>\n",
              "      <td>0.622945</td>\n",
              "      <td>0.716428</td>\n",
              "      <td>0.033706</td>\n",
              "      <td>0.837305</td>\n",
              "      <td>0.091819</td>\n",
              "      <td>0.230439</td>\n",
              "      <td>0.054321</td>\n",
              "      <td>0.060731</td>\n",
              "      <td>1.000000</td>\n",
              "      <td>0.164405</td>\n",
              "      <td>-0.042019</td>\n",
              "      <td>0.028185</td>\n",
              "      <td>0.107010</td>\n",
              "      <td>0.298610</td>\n",
              "    </tr>\n",
              "    <tr>\n",
              "      <th>Kids</th>\n",
              "      <td>0.327499</td>\n",
              "      <td>0.252988</td>\n",
              "      <td>0.158881</td>\n",
              "      <td>0.583934</td>\n",
              "      <td>0.167118</td>\n",
              "      <td>0.646536</td>\n",
              "      <td>0.309515</td>\n",
              "      <td>0.488340</td>\n",
              "      <td>0.327822</td>\n",
              "      <td>0.164405</td>\n",
              "      <td>1.000000</td>\n",
              "      <td>0.408395</td>\n",
              "      <td>0.395949</td>\n",
              "      <td>0.743131</td>\n",
              "      <td>0.105337</td>\n",
              "    </tr>\n",
              "    <tr>\n",
              "      <th>Milky</th>\n",
              "      <td>-0.022521</td>\n",
              "      <td>-0.021083</td>\n",
              "      <td>-0.047169</td>\n",
              "      <td>0.526958</td>\n",
              "      <td>-0.039460</td>\n",
              "      <td>0.539586</td>\n",
              "      <td>0.070664</td>\n",
              "      <td>0.271577</td>\n",
              "      <td>0.294718</td>\n",
              "      <td>-0.042019</td>\n",
              "      <td>0.408395</td>\n",
              "      <td>1.000000</td>\n",
              "      <td>0.124365</td>\n",
              "      <td>0.373674</td>\n",
              "      <td>-0.074116</td>\n",
              "    </tr>\n",
              "    <tr>\n",
              "      <th>Soft Drinks</th>\n",
              "      <td>0.397533</td>\n",
              "      <td>0.109413</td>\n",
              "      <td>0.128850</td>\n",
              "      <td>0.358054</td>\n",
              "      <td>0.053932</td>\n",
              "      <td>0.400753</td>\n",
              "      <td>0.344814</td>\n",
              "      <td>0.380893</td>\n",
              "      <td>0.438219</td>\n",
              "      <td>0.028185</td>\n",
              "      <td>0.395949</td>\n",
              "      <td>0.124365</td>\n",
              "      <td>1.000000</td>\n",
              "      <td>0.419430</td>\n",
              "      <td>0.201415</td>\n",
              "    </tr>\n",
              "    <tr>\n",
              "      <th>Sweets</th>\n",
              "      <td>0.293797</td>\n",
              "      <td>0.193293</td>\n",
              "      <td>0.107701</td>\n",
              "      <td>0.565987</td>\n",
              "      <td>0.105670</td>\n",
              "      <td>0.666496</td>\n",
              "      <td>0.352819</td>\n",
              "      <td>0.520518</td>\n",
              "      <td>0.408222</td>\n",
              "      <td>0.107010</td>\n",
              "      <td>0.743131</td>\n",
              "      <td>0.373674</td>\n",
              "      <td>0.419430</td>\n",
              "      <td>1.000000</td>\n",
              "      <td>0.038444</td>\n",
              "    </tr>\n",
              "    <tr>\n",
              "      <th>Tobacco</th>\n",
              "      <td>0.415905</td>\n",
              "      <td>0.257111</td>\n",
              "      <td>0.438659</td>\n",
              "      <td>0.026311</td>\n",
              "      <td>0.281265</td>\n",
              "      <td>0.056428</td>\n",
              "      <td>0.241036</td>\n",
              "      <td>0.158902</td>\n",
              "      <td>0.186777</td>\n",
              "      <td>0.298610</td>\n",
              "      <td>0.105337</td>\n",
              "      <td>-0.074116</td>\n",
              "      <td>0.201415</td>\n",
              "      <td>0.038444</td>\n",
              "      <td>1.000000</td>\n",
              "    </tr>\n",
              "  </tbody>\n",
              "</table>\n",
              "</div>"
            ],
            "text/plain": [
              "Main Product         Alcohol  Animals food    Beauty     Bread  Cleaning  \\\n",
              "Main Product                                                               \n",
              "Alcohol             1.000000      0.319321  0.287725  0.267596  0.129988   \n",
              "Animals food        0.319321      1.000000  0.588826  0.128554  0.627845   \n",
              "Beauty              0.287725      0.588826  1.000000  0.048198  0.657942   \n",
              "Bread               0.267596      0.128554  0.048198  1.000000  0.018743   \n",
              "Cleaning            0.129988      0.627845  0.657942  0.018743  1.000000   \n",
              "Cookies and sweets  0.236606      0.174380  0.100690  0.591268  0.090203   \n",
              "Frozen              0.371851      0.416522  0.361222  0.298024  0.218328   \n",
              "Gastronomy          0.375432      0.107688  0.155066  0.416526  0.057132   \n",
              "Grocery             0.341899      0.197841  0.121748  0.388164  0.043729   \n",
              "Hygiene             0.139264      0.622945  0.716428  0.033706  0.837305   \n",
              "Kids                0.327499      0.252988  0.158881  0.583934  0.167118   \n",
              "Milky              -0.022521     -0.021083 -0.047169  0.526958 -0.039460   \n",
              "Soft Drinks         0.397533      0.109413  0.128850  0.358054  0.053932   \n",
              "Sweets              0.293797      0.193293  0.107701  0.565987  0.105670   \n",
              "Tobacco             0.415905      0.257111  0.438659  0.026311  0.281265   \n",
              "\n",
              "Main Product        Cookies and sweets    Frozen  Gastronomy   Grocery  \\\n",
              "Main Product                                                             \n",
              "Alcohol                       0.236606  0.371851    0.375432  0.341899   \n",
              "Animals food                  0.174380  0.416522    0.107688  0.197841   \n",
              "Beauty                        0.100690  0.361222    0.155066  0.121748   \n",
              "Bread                         0.591268  0.298024    0.416526  0.388164   \n",
              "Cleaning                      0.090203  0.218328    0.057132  0.043729   \n",
              "Cookies and sweets            1.000000  0.341644    0.343705  0.406910   \n",
              "Frozen                        0.341644  1.000000    0.276159  0.460216   \n",
              "Gastronomy                    0.343705  0.276159    1.000000  0.484041   \n",
              "Grocery                       0.406910  0.460216    0.484041  1.000000   \n",
              "Hygiene                       0.091819  0.230439    0.054321  0.060731   \n",
              "Kids                          0.646536  0.309515    0.488340  0.327822   \n",
              "Milky                         0.539586  0.070664    0.271577  0.294718   \n",
              "Soft Drinks                   0.400753  0.344814    0.380893  0.438219   \n",
              "Sweets                        0.666496  0.352819    0.520518  0.408222   \n",
              "Tobacco                       0.056428  0.241036    0.158902  0.186777   \n",
              "\n",
              "Main Product         Hygiene      Kids     Milky  Soft Drinks    Sweets  \\\n",
              "Main Product                                                              \n",
              "Alcohol             0.139264  0.327499 -0.022521     0.397533  0.293797   \n",
              "Animals food        0.622945  0.252988 -0.021083     0.109413  0.193293   \n",
              "Beauty              0.716428  0.158881 -0.047169     0.128850  0.107701   \n",
              "Bread               0.033706  0.583934  0.526958     0.358054  0.565987   \n",
              "Cleaning            0.837305  0.167118 -0.039460     0.053932  0.105670   \n",
              "Cookies and sweets  0.091819  0.646536  0.539586     0.400753  0.666496   \n",
              "Frozen              0.230439  0.309515  0.070664     0.344814  0.352819   \n",
              "Gastronomy          0.054321  0.488340  0.271577     0.380893  0.520518   \n",
              "Grocery             0.060731  0.327822  0.294718     0.438219  0.408222   \n",
              "Hygiene             1.000000  0.164405 -0.042019     0.028185  0.107010   \n",
              "Kids                0.164405  1.000000  0.408395     0.395949  0.743131   \n",
              "Milky              -0.042019  0.408395  1.000000     0.124365  0.373674   \n",
              "Soft Drinks         0.028185  0.395949  0.124365     1.000000  0.419430   \n",
              "Sweets              0.107010  0.743131  0.373674     0.419430  1.000000   \n",
              "Tobacco             0.298610  0.105337 -0.074116     0.201415  0.038444   \n",
              "\n",
              "Main Product         Tobacco  \n",
              "Main Product                  \n",
              "Alcohol             0.415905  \n",
              "Animals food        0.257111  \n",
              "Beauty              0.438659  \n",
              "Bread               0.026311  \n",
              "Cleaning            0.281265  \n",
              "Cookies and sweets  0.056428  \n",
              "Frozen              0.241036  \n",
              "Gastronomy          0.158902  \n",
              "Grocery             0.186777  \n",
              "Hygiene             0.298610  \n",
              "Kids                0.105337  \n",
              "Milky              -0.074116  \n",
              "Soft Drinks         0.201415  \n",
              "Sweets              0.038444  \n",
              "Tobacco             1.000000  "
            ]
          },
          "metadata": {
            "tags": []
          },
          "execution_count": 50
        }
      ]
    },
    {
      "metadata": {
        "id": "Ic0qEoBStWm0",
        "colab_type": "code",
        "outputId": "a07f0bf5-c29e-40a7-ee70-bbb7cd21b828",
        "colab": {
          "base_uri": "https://localhost:8080/",
          "height": 444
        }
      },
      "cell_type": "code",
      "source": [
        "mask = np.zeros_like(table1)\n",
        "mask[np.triu_indices_from(mask)] = True\n",
        "with sns.axes_style(\"white\"):\n",
        "  ax = sns.heatmap(table1, annot=True, vmin=0, vmax=1)"
      ],
      "execution_count": 0,
      "outputs": [
        {
          "output_type": "display_data",
          "data": {
            "image/png": "[encoded data removed]",
            "text/plain": [
              "<Figure size 576x396 with 2 Axes>"
            ]
          },
          "metadata": {
            "tags": []
          }
        }
      ]
    },
    {
      "metadata": {
        "id": "jpepXnq2vtxJ",
        "colab_type": "code",
        "colab": {}
      },
      "cell_type": "code",
      "source": [
        "table2 = table1"
      ],
      "execution_count": 0,
      "outputs": []
    },
    {
      "metadata": {
        "id": "XRKhIpDt11ag",
        "colab_type": "code",
        "colab": {}
      },
      "cell_type": "code",
      "source": [
        "for i in range(15):\n",
        "  for y in range(15):\n",
        "    pow(table2.values[i][y], 2)\n",
        "    "
      ],
      "execution_count": 0,
      "outputs": []
    },
    {
      "metadata": {
        "id": "4ymvESQM4obB",
        "colab_type": "code",
        "outputId": "094e4a4d-5244-4209-f640-cab8876ba8ba",
        "colab": {
          "base_uri": "https://localhost:8080/",
          "height": 34
        }
      },
      "cell_type": "code",
      "source": [
        "pow(table2.values[0][14], 2)"
      ],
      "execution_count": 0,
      "outputs": [
        {
          "output_type": "execute_result",
          "data": {
            "text/plain": [
              "0.0005667639554899299"
            ]
          },
          "metadata": {
            "tags": []
          },
          "execution_count": 248
        }
      ]
    },
    {
      "metadata": {
        "id": "1xXsd8wh12Zm",
        "colab_type": "code",
        "outputId": "b899d62c-0b00-4c96-ae87-de029d20c75b",
        "colab": {
          "base_uri": "https://localhost:8080/",
          "height": 461
        }
      },
      "cell_type": "code",
      "source": [
        "sns.heatmap(table2, vmin=0, vmax=1)"
      ],
      "execution_count": 0,
      "outputs": [
        {
          "output_type": "execute_result",
          "data": {
            "text/plain": [
              "<matplotlib.axes._subplots.AxesSubplot at 0x7f58f545c6a0>"
            ]
          },
          "metadata": {
            "tags": []
          },
          "execution_count": 55
        },
        {
          "output_type": "display_data",
          "data": {
            "image/png": "[encoded data removed]",
            "text/plain": [
              "<Figure size 576x396 with 2 Axes>"
            ]
          },
          "metadata": {
            "tags": []
          }
        }
      ]
    },
    {
      "metadata": {
        "id": "8zXjZIjQb6ec",
        "colab_type": "code",
        "colab": {}
      },
      "cell_type": "code",
      "source": [
        ""
      ],
      "execution_count": 0,
      "outputs": []
    },
    {
      "metadata": {
        "id": "i86Ojs6wb6jr",
        "colab_type": "code",
        "colab": {}
      },
      "cell_type": "code",
      "source": [
        ""
      ],
      "execution_count": 0,
      "outputs": []
    },
    {
      "metadata": {
        "id": "Dx0rcgBlb6cm",
        "colab_type": "code",
        "colab": {}
      },
      "cell_type": "code",
      "source": [
        ""
      ],
      "execution_count": 0,
      "outputs": []
    },
    {
      "metadata": {
        "id": "b4noQshY2pFW",
        "colab_type": "code",
        "colab": {}
      },
      "cell_type": "code",
      "source": [
        "import pandas\n",
        "dataTe = pandas.read_excel('Book1.xlsx')"
      ],
      "execution_count": 0,
      "outputs": []
    },
    {
      "metadata": {
        "id": "-i1wrEmTHtiH",
        "colab_type": "code",
        "outputId": "d9d2fc64-ba0e-42ad-8a8b-575ef324ebc1",
        "colab": {
          "base_uri": "https://localhost:8080/",
          "height": 514
        }
      },
      "cell_type": "code",
      "source": [
        "dataTe"
      ],
      "execution_count": 0,
      "outputs": [
        {
          "output_type": "execute_result",
          "data": {
            "text/html": [
              "<div>\n",
              "<style scoped>\n",
              "    .dataframe tbody tr th:only-of-type {\n",
              "        vertical-align: middle;\n",
              "    }\n",
              "\n",
              "    .dataframe tbody tr th {\n",
              "        vertical-align: top;\n",
              "    }\n",
              "\n",
              "    .dataframe thead th {\n",
              "        text-align: right;\n",
              "    }\n",
              "</style>\n",
              "<table border=\"1\" class=\"dataframe\">\n",
              "  <thead>\n",
              "    <tr style=\"text-align: right;\">\n",
              "      <th></th>\n",
              "      <th>N of check</th>\n",
              "      <th>Main Product</th>\n",
              "      <th>Product Group</th>\n",
              "      <th>Margin</th>\n",
              "      <th>Number of goods</th>\n",
              "      <th>Cost of Goods</th>\n",
              "    </tr>\n",
              "  </thead>\n",
              "  <tbody>\n",
              "    <tr>\n",
              "      <th>0</th>\n",
              "      <td>711</td>\n",
              "      <td>Alcohol</td>\n",
              "      <td>Drinks</td>\n",
              "      <td>0.05</td>\n",
              "      <td>3</td>\n",
              "      <td>500</td>\n",
              "    </tr>\n",
              "    <tr>\n",
              "      <th>1</th>\n",
              "      <td>711</td>\n",
              "      <td>Beauty</td>\n",
              "      <td>Household goods</td>\n",
              "      <td>0.05</td>\n",
              "      <td>2</td>\n",
              "      <td>1000</td>\n",
              "    </tr>\n",
              "    <tr>\n",
              "      <th>2</th>\n",
              "      <td>711</td>\n",
              "      <td>Bread</td>\n",
              "      <td>Bakery</td>\n",
              "      <td>0.05</td>\n",
              "      <td>2</td>\n",
              "      <td>70</td>\n",
              "    </tr>\n",
              "    <tr>\n",
              "      <th>3</th>\n",
              "      <td>711</td>\n",
              "      <td>Cleaning</td>\n",
              "      <td>Household goods</td>\n",
              "      <td>0.05</td>\n",
              "      <td>3</td>\n",
              "      <td>1000</td>\n",
              "    </tr>\n",
              "    <tr>\n",
              "      <th>4</th>\n",
              "      <td>711</td>\n",
              "      <td>Cookies and sweets</td>\n",
              "      <td>Bakery</td>\n",
              "      <td>0.05</td>\n",
              "      <td>2</td>\n",
              "      <td>80</td>\n",
              "    </tr>\n",
              "    <tr>\n",
              "      <th>5</th>\n",
              "      <td>712</td>\n",
              "      <td>Alcohol</td>\n",
              "      <td>Drinks</td>\n",
              "      <td>0.05</td>\n",
              "      <td>0</td>\n",
              "      <td>500</td>\n",
              "    </tr>\n",
              "    <tr>\n",
              "      <th>6</th>\n",
              "      <td>712</td>\n",
              "      <td>Beauty</td>\n",
              "      <td>Household goods</td>\n",
              "      <td>0.05</td>\n",
              "      <td>2</td>\n",
              "      <td>1000</td>\n",
              "    </tr>\n",
              "    <tr>\n",
              "      <th>7</th>\n",
              "      <td>712</td>\n",
              "      <td>Bread</td>\n",
              "      <td>Bakery</td>\n",
              "      <td>0.05</td>\n",
              "      <td>3</td>\n",
              "      <td>70</td>\n",
              "    </tr>\n",
              "    <tr>\n",
              "      <th>8</th>\n",
              "      <td>712</td>\n",
              "      <td>Cleaning</td>\n",
              "      <td>Household goods</td>\n",
              "      <td>0.05</td>\n",
              "      <td>6</td>\n",
              "      <td>1000</td>\n",
              "    </tr>\n",
              "    <tr>\n",
              "      <th>9</th>\n",
              "      <td>712</td>\n",
              "      <td>Cookies and sweets</td>\n",
              "      <td>Bakery</td>\n",
              "      <td>0.05</td>\n",
              "      <td>0</td>\n",
              "      <td>80</td>\n",
              "    </tr>\n",
              "    <tr>\n",
              "      <th>10</th>\n",
              "      <td>713</td>\n",
              "      <td>Alcohol</td>\n",
              "      <td>Drinks</td>\n",
              "      <td>0.05</td>\n",
              "      <td>0</td>\n",
              "      <td>500</td>\n",
              "    </tr>\n",
              "    <tr>\n",
              "      <th>11</th>\n",
              "      <td>713</td>\n",
              "      <td>Beauty</td>\n",
              "      <td>Household goods</td>\n",
              "      <td>0.05</td>\n",
              "      <td>2</td>\n",
              "      <td>1000</td>\n",
              "    </tr>\n",
              "    <tr>\n",
              "      <th>12</th>\n",
              "      <td>713</td>\n",
              "      <td>Bread</td>\n",
              "      <td>Bakery</td>\n",
              "      <td>0.05</td>\n",
              "      <td>1</td>\n",
              "      <td>70</td>\n",
              "    </tr>\n",
              "    <tr>\n",
              "      <th>13</th>\n",
              "      <td>713</td>\n",
              "      <td>Cleaning</td>\n",
              "      <td>Household goods</td>\n",
              "      <td>0.05</td>\n",
              "      <td>0</td>\n",
              "      <td>1000</td>\n",
              "    </tr>\n",
              "    <tr>\n",
              "      <th>14</th>\n",
              "      <td>713</td>\n",
              "      <td>Cookies and sweets</td>\n",
              "      <td>Bakery</td>\n",
              "      <td>0.05</td>\n",
              "      <td>0</td>\n",
              "      <td>80</td>\n",
              "    </tr>\n",
              "  </tbody>\n",
              "</table>\n",
              "</div>"
            ],
            "text/plain": [
              "    N of check        Main Product    Product Group  Margin  Number of goods  \\\n",
              "0          711             Alcohol           Drinks    0.05                3   \n",
              "1          711              Beauty  Household goods    0.05                2   \n",
              "2          711               Bread           Bakery    0.05                2   \n",
              "3          711            Cleaning  Household goods    0.05                3   \n",
              "4          711  Cookies and sweets           Bakery    0.05                2   \n",
              "5          712             Alcohol           Drinks    0.05                0   \n",
              "6          712              Beauty  Household goods    0.05                2   \n",
              "7          712               Bread           Bakery    0.05                3   \n",
              "8          712            Cleaning  Household goods    0.05                6   \n",
              "9          712  Cookies and sweets           Bakery    0.05                0   \n",
              "10         713             Alcohol           Drinks    0.05                0   \n",
              "11         713              Beauty  Household goods    0.05                2   \n",
              "12         713               Bread           Bakery    0.05                1   \n",
              "13         713            Cleaning  Household goods    0.05                0   \n",
              "14         713  Cookies and sweets           Bakery    0.05                0   \n",
              "\n",
              "    Cost of Goods  \n",
              "0             500  \n",
              "1            1000  \n",
              "2              70  \n",
              "3            1000  \n",
              "4              80  \n",
              "5             500  \n",
              "6            1000  \n",
              "7              70  \n",
              "8            1000  \n",
              "9              80  \n",
              "10            500  \n",
              "11           1000  \n",
              "12             70  \n",
              "13           1000  \n",
              "14             80  "
            ]
          },
          "metadata": {
            "tags": []
          },
          "execution_count": 58
        }
      ]
    },
    {
      "metadata": {
        "id": "sl-86nHPHuMM",
        "colab_type": "code",
        "outputId": "218501c8-7faf-4a50-8db6-d7b73a970961",
        "colab": {
          "base_uri": "https://localhost:8080/",
          "height": 173
        }
      },
      "cell_type": "code",
      "source": [
        "tableTe = pandas.pivot_table(dataTe, values='Number of goods', index=['N of check'], columns=['Main Product'], aggfunc=np.sum)\n",
        "tableTe"
      ],
      "execution_count": 0,
      "outputs": [
        {
          "output_type": "execute_result",
          "data": {
            "text/html": [
              "<div>\n",
              "<style scoped>\n",
              "    .dataframe tbody tr th:only-of-type {\n",
              "        vertical-align: middle;\n",
              "    }\n",
              "\n",
              "    .dataframe tbody tr th {\n",
              "        vertical-align: top;\n",
              "    }\n",
              "\n",
              "    .dataframe thead th {\n",
              "        text-align: right;\n",
              "    }\n",
              "</style>\n",
              "<table border=\"1\" class=\"dataframe\">\n",
              "  <thead>\n",
              "    <tr style=\"text-align: right;\">\n",
              "      <th>Main Product</th>\n",
              "      <th>Alcohol</th>\n",
              "      <th>Beauty</th>\n",
              "      <th>Bread</th>\n",
              "      <th>Cleaning</th>\n",
              "      <th>Cookies and sweets</th>\n",
              "    </tr>\n",
              "    <tr>\n",
              "      <th>N of check</th>\n",
              "      <th></th>\n",
              "      <th></th>\n",
              "      <th></th>\n",
              "      <th></th>\n",
              "      <th></th>\n",
              "    </tr>\n",
              "  </thead>\n",
              "  <tbody>\n",
              "    <tr>\n",
              "      <th>711</th>\n",
              "      <td>3</td>\n",
              "      <td>2</td>\n",
              "      <td>2</td>\n",
              "      <td>3</td>\n",
              "      <td>2</td>\n",
              "    </tr>\n",
              "    <tr>\n",
              "      <th>712</th>\n",
              "      <td>0</td>\n",
              "      <td>2</td>\n",
              "      <td>3</td>\n",
              "      <td>6</td>\n",
              "      <td>0</td>\n",
              "    </tr>\n",
              "    <tr>\n",
              "      <th>713</th>\n",
              "      <td>0</td>\n",
              "      <td>2</td>\n",
              "      <td>1</td>\n",
              "      <td>0</td>\n",
              "      <td>0</td>\n",
              "    </tr>\n",
              "  </tbody>\n",
              "</table>\n",
              "</div>"
            ],
            "text/plain": [
              "Main Product  Alcohol  Beauty  Bread  Cleaning  Cookies and sweets\n",
              "N of check                                                        \n",
              "711                 3       2      2         3                   2\n",
              "712                 0       2      3         6                   0\n",
              "713                 0       2      1         0                   0"
            ]
          },
          "metadata": {
            "tags": []
          },
          "execution_count": 59
        }
      ]
    },
    {
      "metadata": {
        "id": "UmTyhTuJdOYQ",
        "colab_type": "code",
        "outputId": "47ac9fa2-eb16-41ed-ee1c-d6dc710dbf78",
        "colab": {
          "base_uri": "https://localhost:8080/",
          "height": 34
        }
      },
      "cell_type": "code",
      "source": [
        "tableTe['Cookies and sweets'].values"
      ],
      "execution_count": 0,
      "outputs": [
        {
          "output_type": "execute_result",
          "data": {
            "text/plain": [
              "array([1, 0, 0])"
            ]
          },
          "metadata": {
            "tags": []
          },
          "execution_count": 91
        }
      ]
    },
    {
      "metadata": {
        "id": "1eqUm7KBdiEE",
        "colab_type": "code",
        "colab": {}
      },
      "cell_type": "code",
      "source": [
        "x=0\n",
        "for i in tableTe['Cookies and sweets'].values:\n",
        "  if (i>0):\n",
        "    tableTe['Cookies and sweets'].values[x] = 1\n",
        "  x+=1"
      ],
      "execution_count": 0,
      "outputs": []
    },
    {
      "metadata": {
        "id": "v11WdvqmcUbb",
        "colab_type": "code",
        "colab": {}
      },
      "cell_type": "code",
      "source": [
        "tt = tableTe.corr(method = 'kendall')"
      ],
      "execution_count": 0,
      "outputs": []
    },
    {
      "metadata": {
        "id": "YZOolnirekXL",
        "colab_type": "code",
        "outputId": "25ab5215-dfa4-4e98-f8d6-51d3b373b989",
        "colab": {
          "base_uri": "https://localhost:8080/",
          "height": 173
        }
      },
      "cell_type": "code",
      "source": [
        "tableTe"
      ],
      "execution_count": 0,
      "outputs": [
        {
          "output_type": "execute_result",
          "data": {
            "text/html": [
              "<div>\n",
              "<style scoped>\n",
              "    .dataframe tbody tr th:only-of-type {\n",
              "        vertical-align: middle;\n",
              "    }\n",
              "\n",
              "    .dataframe tbody tr th {\n",
              "        vertical-align: top;\n",
              "    }\n",
              "\n",
              "    .dataframe thead th {\n",
              "        text-align: right;\n",
              "    }\n",
              "</style>\n",
              "<table border=\"1\" class=\"dataframe\">\n",
              "  <thead>\n",
              "    <tr style=\"text-align: right;\">\n",
              "      <th>Main Product</th>\n",
              "      <th>Alcohol</th>\n",
              "      <th>Beauty</th>\n",
              "      <th>Bread</th>\n",
              "      <th>Cleaning</th>\n",
              "      <th>Cookies and sweets</th>\n",
              "    </tr>\n",
              "    <tr>\n",
              "      <th>N of check</th>\n",
              "      <th></th>\n",
              "      <th></th>\n",
              "      <th></th>\n",
              "      <th></th>\n",
              "      <th></th>\n",
              "    </tr>\n",
              "  </thead>\n",
              "  <tbody>\n",
              "    <tr>\n",
              "      <th>711</th>\n",
              "      <td>1</td>\n",
              "      <td>1</td>\n",
              "      <td>1</td>\n",
              "      <td>1</td>\n",
              "      <td>1</td>\n",
              "    </tr>\n",
              "    <tr>\n",
              "      <th>712</th>\n",
              "      <td>0</td>\n",
              "      <td>1</td>\n",
              "      <td>1</td>\n",
              "      <td>1</td>\n",
              "      <td>0</td>\n",
              "    </tr>\n",
              "    <tr>\n",
              "      <th>713</th>\n",
              "      <td>0</td>\n",
              "      <td>1</td>\n",
              "      <td>1</td>\n",
              "      <td>0</td>\n",
              "      <td>0</td>\n",
              "    </tr>\n",
              "  </tbody>\n",
              "</table>\n",
              "</div>"
            ],
            "text/plain": [
              "Main Product  Alcohol  Beauty  Bread  Cleaning  Cookies and sweets\n",
              "N of check                                                        \n",
              "711                 1       1      1         1                   1\n",
              "712                 0       1      1         1                   0\n",
              "713                 0       1      1         0                   0"
            ]
          },
          "metadata": {
            "tags": []
          },
          "execution_count": 95
        }
      ]
    },
    {
      "metadata": {
        "id": "jIBza8JScYzD",
        "colab_type": "code",
        "outputId": "36dc4c80-f13b-48f3-abc8-32e9633c8901",
        "colab": {
          "base_uri": "https://localhost:8080/",
          "height": 406
        }
      },
      "cell_type": "code",
      "source": [
        "sns.heatmap(tt, annot = True, vmin = 0, vmax=1)"
      ],
      "execution_count": 0,
      "outputs": [
        {
          "output_type": "execute_result",
          "data": {
            "text/plain": [
              "<matplotlib.axes._subplots.AxesSubplot at 0x7f58f5513080>"
            ]
          },
          "metadata": {
            "tags": []
          },
          "execution_count": 93
        },
        {
          "output_type": "display_data",
          "data": {
            "image/png": "[encoded data removed]",
            "text/plain": [
              "<Figure size 576x396 with 2 Axes>"
            ]
          },
          "metadata": {
            "tags": []
          }
        }
      ]
    },
    {
      "metadata": {
        "id": "0F71bu3MQUG5",
        "colab_type": "code",
        "outputId": "5379dfe6-885f-4ced-879a-808df39a08dc",
        "colab": {
          "base_uri": "https://localhost:8080/",
          "height": 365
        }
      },
      "cell_type": "code",
      "source": [
        "mask = np.zeros_like(tableTe)\n",
        "mask[np.triu_indices_from(mask)] = True\n",
        "with sns.axes_style(\"white\"):\n",
        "  ax = sns.heatmap(tableTe, annot=True, vmin=0, vmax=1)"
      ],
      "execution_count": 0,
      "outputs": [
        {
          "output_type": "display_data",
          "data": {
            "image/png": "[encoded data removed]",
            "text/plain": [
              "<Figure size 576x396 with 2 Axes>"
            ]
          },
          "metadata": {
            "tags": []
          }
        }
      ]
    },
    {
      "metadata": {
        "id": "gBEQ4LeGH63H",
        "colab_type": "code",
        "outputId": "357688fb-8d07-48b4-db91-4e4d727bd4cf",
        "colab": {
          "base_uri": "https://localhost:8080/",
          "height": 235
        }
      },
      "cell_type": "code",
      "source": [
        "tableTe.corr(method = 'spearman', min_periods = 0)"
      ],
      "execution_count": 0,
      "outputs": [
        {
          "output_type": "execute_result",
          "data": {
            "text/html": [
              "<div>\n",
              "<style scoped>\n",
              "    .dataframe tbody tr th:only-of-type {\n",
              "        vertical-align: middle;\n",
              "    }\n",
              "\n",
              "    .dataframe tbody tr th {\n",
              "        vertical-align: top;\n",
              "    }\n",
              "\n",
              "    .dataframe thead th {\n",
              "        text-align: right;\n",
              "    }\n",
              "</style>\n",
              "<table border=\"1\" class=\"dataframe\">\n",
              "  <thead>\n",
              "    <tr style=\"text-align: right;\">\n",
              "      <th>Main Product</th>\n",
              "      <th>Alcohol</th>\n",
              "      <th>Beauty</th>\n",
              "      <th>Bread</th>\n",
              "      <th>Cleaning</th>\n",
              "      <th>Cookies and sweets</th>\n",
              "    </tr>\n",
              "    <tr>\n",
              "      <th>Main Product</th>\n",
              "      <th></th>\n",
              "      <th></th>\n",
              "      <th></th>\n",
              "      <th></th>\n",
              "      <th></th>\n",
              "    </tr>\n",
              "  </thead>\n",
              "  <tbody>\n",
              "    <tr>\n",
              "      <th>Alcohol</th>\n",
              "      <td>1.0</td>\n",
              "      <td>NaN</td>\n",
              "      <td>0.0</td>\n",
              "      <td>0.0</td>\n",
              "      <td>1.0</td>\n",
              "    </tr>\n",
              "    <tr>\n",
              "      <th>Beauty</th>\n",
              "      <td>NaN</td>\n",
              "      <td>NaN</td>\n",
              "      <td>NaN</td>\n",
              "      <td>NaN</td>\n",
              "      <td>NaN</td>\n",
              "    </tr>\n",
              "    <tr>\n",
              "      <th>Bread</th>\n",
              "      <td>0.0</td>\n",
              "      <td>NaN</td>\n",
              "      <td>1.0</td>\n",
              "      <td>1.0</td>\n",
              "      <td>0.0</td>\n",
              "    </tr>\n",
              "    <tr>\n",
              "      <th>Cleaning</th>\n",
              "      <td>0.0</td>\n",
              "      <td>NaN</td>\n",
              "      <td>1.0</td>\n",
              "      <td>1.0</td>\n",
              "      <td>0.0</td>\n",
              "    </tr>\n",
              "    <tr>\n",
              "      <th>Cookies and sweets</th>\n",
              "      <td>1.0</td>\n",
              "      <td>NaN</td>\n",
              "      <td>0.0</td>\n",
              "      <td>0.0</td>\n",
              "      <td>1.0</td>\n",
              "    </tr>\n",
              "  </tbody>\n",
              "</table>\n",
              "</div>"
            ],
            "text/plain": [
              "Main Product        Alcohol  Beauty  Bread  Cleaning  Cookies and sweets\n",
              "Main Product                                                            \n",
              "Alcohol                 1.0     NaN    0.0       0.0                 1.0\n",
              "Beauty                  NaN     NaN    NaN       NaN                 NaN\n",
              "Bread                   0.0     NaN    1.0       1.0                 0.0\n",
              "Cleaning                0.0     NaN    1.0       1.0                 0.0\n",
              "Cookies and sweets      1.0     NaN    0.0       0.0                 1.0"
            ]
          },
          "metadata": {
            "tags": []
          },
          "execution_count": 277
        }
      ]
    },
    {
      "metadata": {
        "id": "mIy9x7AVLqxh",
        "colab_type": "code",
        "outputId": "3a78369a-5fc0-4f2f-99e4-00a5245ea451",
        "colab": {
          "base_uri": "https://localhost:8080/",
          "height": 68
        }
      },
      "cell_type": "code",
      "source": [
        "np.corrcoef(tableTe)"
      ],
      "execution_count": 0,
      "outputs": [
        {
          "output_type": "execute_result",
          "data": {
            "text/plain": [
              "array([[ 1.        ,  0.29329423, -0.61237244],\n",
              "       [ 0.29329423,  1.        ,  0.04490133],\n",
              "       [-0.61237244,  0.04490133,  1.        ]])"
            ]
          },
          "metadata": {
            "tags": []
          },
          "execution_count": 287
        }
      ]
    },
    {
      "metadata": {
        "id": "bEEebh-fIQMe",
        "colab_type": "code",
        "outputId": "378141cb-404b-42a9-ee11-7df2e9e62aab",
        "colab": {
          "base_uri": "https://localhost:8080/",
          "height": 364
        }
      },
      "cell_type": "code",
      "source": [
        "sns.heatmap(np.corrcoef(tableTe), annot=True)"
      ],
      "execution_count": 0,
      "outputs": [
        {
          "output_type": "execute_result",
          "data": {
            "text/plain": [
              "<matplotlib.axes._subplots.AxesSubplot at 0x7f88847ba1d0>"
            ]
          },
          "metadata": {
            "tags": []
          },
          "execution_count": 280
        },
        {
          "output_type": "display_data",
          "data": {
            "image/png": "[encoded data removed]",
            "text/plain": [
              "<Figure size 576x396 with 2 Axes>"
            ]
          },
          "metadata": {
            "tags": []
          }
        }
      ]
    },
    {
      "metadata": {
        "id": "H8DAkDf_ISto",
        "colab_type": "code",
        "colab": {}
      },
      "cell_type": "code",
      "source": [
        ""
      ],
      "execution_count": 0,
      "outputs": []
    }
  ]
}